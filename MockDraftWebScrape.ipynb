{
 "cells": [
  {
   "cell_type": "code",
   "execution_count": 1,
   "metadata": {
    "collapsed": true
   },
   "outputs": [],
   "source": [
    "import pandas as pd\n",
    "import numpy as np\n",
    "from bs4 import BeautifulSoup\n",
    "import requests"
   ]
  },
  {
   "cell_type": "markdown",
   "metadata": {},
   "source": [
    "## Mock Draft Data"
   ]
  },
  {
   "cell_type": "code",
   "execution_count": 2,
   "metadata": {
    "collapsed": true
   },
   "outputs": [],
   "source": [
    "MOCK_DRAFT_LINK = 'https://fantasyfootballcalculator.com/mock-draft/results/format/ppr/teams/10?page='"
   ]
  },
  {
   "cell_type": "code",
   "execution_count": 3,
   "metadata": {
    "collapsed": true
   },
   "outputs": [],
   "source": [
    "def getDraftId(link):\n",
    "    response = requests.get(link)\n",
    "    html = response.text.encode()\n",
    "    soup = BeautifulSoup(html,'html.parser')\n",
    "    table = soup.find('table',{'class':'table mock-draft-results'})\n",
    "    mockDrafts = [x['href'] for x in table.find_all('a',{'class':'btn btn-primary btn-sm'}) if x.text=='Mock Draft Results']\n",
    "    return mockDrafts\n",
    "\n",
    "def getMockDrafts(draftId):\n",
    "    link = 'https://fantasyfootballcalculator.com'+draftId\n",
    "    response=requests.get(link)\n",
    "    html=response.text.encode()\n",
    "    soup = BeautifulSoup(html,'html.parser')\n",
    "    table = soup.find('tbody',{'id':'draftboard-body'})\n",
    "    table = table.find_all('tr')\n",
    "    table = [[player['title'] for player in row.find_all('a')] for row in table]\n",
    "    draftOrder = [player for row in table for player in row]\n",
    "    return draftOrder\n",
    "\n",
    "def getDraftOrder(link):\n",
    "    draftId=[]\n",
    "    for i in range(1,41):\n",
    "        draftId.extend(getDraftId(link+str(i)))\n",
    "    allDrafts = [getMockDrafts(draft) for draft in draftId]\n",
    "    return allDrafts\n",
    "\n",
    "def getPlayerPickPositions(mockDrafts):\n",
    "    playerDic = {player:[draft.index(player) for draft in mockDrafts if player in draft] for player in np.unique([player for draft in mockDrafts for player in draft])}\n",
    "    return playerDic\n",
    "\n",
    "def getSummaryStats(players):\n",
    "    dic = {player: {'number_of_drafts':len(players[player]),\n",
    "                    'earliest_pick':min(players[player]),\n",
    "                    'latest_pick':max(players[player]),\n",
    "                    '25th_percentile':np.percentile(players[player],25),\n",
    "                    'med_pick':np.percentile(players[player],50),\n",
    "                    '75th_percentile':np.percentile(players[player],75),\n",
    "                    'avg_pick':np.mean(players[player]),\n",
    "                    'standard_deviation':np.std(players[player],ddof=1),\n",
    "                    'pearson_second_skewness_coef':(np.mean(players[player])-np.median(players[player]))/np.std(players[player],ddof=1)} for player in players}\n",
    "    return pd.DataFrame.from_dict(dic,orient='index')\n",
    "\n",
    "def createSummaryDataframe():\n",
    "    mockDrafts = getDraftOrder(MOCK_DRAFT_LINK)\n",
    "    playersPicked = getPlayerPickPositions(mockDrafts)\n",
    "    df = getSummaryStats(playersPicked).reset_index()\n",
    "    return df"
   ]
  },
  {
   "cell_type": "code",
   "execution_count": 4,
   "metadata": {},
   "outputs": [
    {
     "name": "stderr",
     "output_type": "stream",
     "text": [
      "C:\\Users\\ibiyt\\Anaconda3\\lib\\site-packages\\numpy\\core\\_methods.py:135: RuntimeWarning: Degrees of freedom <= 0 for slice\n",
      "  keepdims=keepdims)\n",
      "C:\\Users\\ibiyt\\Anaconda3\\lib\\site-packages\\numpy\\core\\_methods.py:127: RuntimeWarning: invalid value encountered in double_scalars\n",
      "  ret = ret.dtype.type(ret / rcount)\n",
      "C:\\Users\\ibiyt\\Anaconda3\\lib\\site-packages\\ipykernel_launcher.py:40: RuntimeWarning: invalid value encountered in double_scalars\n"
     ]
    }
   ],
   "source": [
    "data=createSummaryDataframe()"
   ]
  },
  {
   "cell_type": "code",
   "execution_count": 5,
   "metadata": {
    "collapsed": true
   },
   "outputs": [],
   "source": [
    "data=data.rename(columns={'index':'PLAYER'})"
   ]
  },
  {
   "cell_type": "code",
   "execution_count": 6,
   "metadata": {
    "collapsed": true
   },
   "outputs": [],
   "source": [
    "data.to_csv('playersDraftStatistics.csv',index=False)"
   ]
  }
 ],
 "metadata": {
  "kernelspec": {
   "display_name": "Python 3",
   "language": "python",
   "name": "python3"
  },
  "language_info": {
   "codemirror_mode": {
    "name": "ipython",
    "version": 3
   },
   "file_extension": ".py",
   "mimetype": "text/x-python",
   "name": "python",
   "nbconvert_exporter": "python",
   "pygments_lexer": "ipython3",
   "version": "3.6.3"
  }
 },
 "nbformat": 4,
 "nbformat_minor": 2
}
